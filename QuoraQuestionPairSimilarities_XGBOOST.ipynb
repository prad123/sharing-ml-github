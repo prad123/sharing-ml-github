{
 "cells": [
  {
   "cell_type": "code",
   "execution_count": 1,
   "metadata": {},
   "outputs": [],
   "source": [
    "#Quora question pair similarities"
   ]
  },
  {
   "cell_type": "code",
   "execution_count": 3,
   "metadata": {},
   "outputs": [],
   "source": [
    "%matplotlib inline\n",
    "import warnings\n",
    "warnings.filterwarnings(\"ignore\")\n",
    "import numpy as np\n",
    "import pandas as pd\n",
    "import matplotlib.pyplot as plt\n",
    "import seaborn as sns\n",
    "plt.style.use('fivethirtyeight')"
   ]
  },
  {
   "cell_type": "code",
   "execution_count": 4,
   "metadata": {},
   "outputs": [],
   "source": [
    "df = pd.read_csv('train.csv', nrows=1000)"
   ]
  },
  {
   "cell_type": "code",
   "execution_count": 5,
   "metadata": {},
   "outputs": [
    {
     "data": {
      "text/plain": [
       "id              0\n",
       "qid1            0\n",
       "qid2            0\n",
       "question1       0\n",
       "question2       0\n",
       "is_duplicate    0\n",
       "dtype: int64"
      ]
     },
     "execution_count": 5,
     "metadata": {},
     "output_type": "execute_result"
    }
   ],
   "source": [
    "df.isnull().sum()"
   ]
  },
  {
   "cell_type": "code",
   "execution_count": 6,
   "metadata": {},
   "outputs": [
    {
     "data": {
      "text/html": [
       "<div>\n",
       "<style scoped>\n",
       "    .dataframe tbody tr th:only-of-type {\n",
       "        vertical-align: middle;\n",
       "    }\n",
       "\n",
       "    .dataframe tbody tr th {\n",
       "        vertical-align: top;\n",
       "    }\n",
       "\n",
       "    .dataframe thead th {\n",
       "        text-align: right;\n",
       "    }\n",
       "</style>\n",
       "<table border=\"1\" class=\"dataframe\">\n",
       "  <thead>\n",
       "    <tr style=\"text-align: right;\">\n",
       "      <th></th>\n",
       "      <th>id</th>\n",
       "      <th>qid1</th>\n",
       "      <th>qid2</th>\n",
       "      <th>question1</th>\n",
       "      <th>question2</th>\n",
       "      <th>is_duplicate</th>\n",
       "    </tr>\n",
       "  </thead>\n",
       "  <tbody>\n",
       "  </tbody>\n",
       "</table>\n",
       "</div>"
      ],
      "text/plain": [
       "Empty DataFrame\n",
       "Columns: [id, qid1, qid2, question1, question2, is_duplicate]\n",
       "Index: []"
      ]
     },
     "execution_count": 6,
     "metadata": {},
     "output_type": "execute_result"
    }
   ],
   "source": [
    "ques1_na_index = df[df.question1.isnull()].index\n",
    "ques2_na_index = df[df.question2.isnull()].index\n",
    "missing_questions = ques1_na_index.append(ques2_na_index)\n",
    "df.loc[missing_questions]"
   ]
  },
  {
   "cell_type": "code",
   "execution_count": 7,
   "metadata": {},
   "outputs": [
    {
     "data": {
      "text/plain": [
       "id              0\n",
       "qid1            0\n",
       "qid2            0\n",
       "question1       0\n",
       "question2       0\n",
       "is_duplicate    0\n",
       "dtype: int64"
      ]
     },
     "execution_count": 7,
     "metadata": {},
     "output_type": "execute_result"
    }
   ],
   "source": [
    "df.fillna(' ', inplace=True)\n",
    "df.isnull().sum()"
   ]
  },
  {
   "cell_type": "code",
   "execution_count": 8,
   "metadata": {},
   "outputs": [
    {
     "name": "stdout",
     "output_type": "stream",
     "text": [
      "<class 'pandas.core.frame.DataFrame'>\n",
      "RangeIndex: 1000 entries, 0 to 999\n",
      "Data columns (total 6 columns):\n",
      "id              1000 non-null int64\n",
      "qid1            1000 non-null int64\n",
      "qid2            1000 non-null int64\n",
      "question1       1000 non-null object\n",
      "question2       1000 non-null object\n",
      "is_duplicate    1000 non-null int64\n",
      "dtypes: int64(4), object(2)\n",
      "memory usage: 47.0+ KB\n"
     ]
    }
   ],
   "source": [
    "df.info()"
   ]
  },
  {
   "cell_type": "code",
   "execution_count": 9,
   "metadata": {},
   "outputs": [
    {
     "data": {
      "text/html": [
       "<div>\n",
       "<style scoped>\n",
       "    .dataframe tbody tr th:only-of-type {\n",
       "        vertical-align: middle;\n",
       "    }\n",
       "\n",
       "    .dataframe tbody tr th {\n",
       "        vertical-align: top;\n",
       "    }\n",
       "\n",
       "    .dataframe thead th {\n",
       "        text-align: right;\n",
       "    }\n",
       "</style>\n",
       "<table border=\"1\" class=\"dataframe\">\n",
       "  <thead>\n",
       "    <tr style=\"text-align: right;\">\n",
       "      <th></th>\n",
       "      <th>count</th>\n",
       "      <th>mean</th>\n",
       "      <th>std</th>\n",
       "      <th>min</th>\n",
       "      <th>25%</th>\n",
       "      <th>50%</th>\n",
       "      <th>75%</th>\n",
       "      <th>max</th>\n",
       "    </tr>\n",
       "  </thead>\n",
       "  <tbody>\n",
       "    <tr>\n",
       "      <th>id</th>\n",
       "      <td>1000.0</td>\n",
       "      <td>499.500</td>\n",
       "      <td>288.819436</td>\n",
       "      <td>0.0</td>\n",
       "      <td>249.75</td>\n",
       "      <td>499.5</td>\n",
       "      <td>749.25</td>\n",
       "      <td>999.0</td>\n",
       "    </tr>\n",
       "    <tr>\n",
       "      <th>qid1</th>\n",
       "      <td>1000.0</td>\n",
       "      <td>995.794</td>\n",
       "      <td>575.681665</td>\n",
       "      <td>1.0</td>\n",
       "      <td>498.50</td>\n",
       "      <td>995.0</td>\n",
       "      <td>1493.50</td>\n",
       "      <td>1993.0</td>\n",
       "    </tr>\n",
       "    <tr>\n",
       "      <th>qid2</th>\n",
       "      <td>1000.0</td>\n",
       "      <td>996.743</td>\n",
       "      <td>576.523005</td>\n",
       "      <td>2.0</td>\n",
       "      <td>497.50</td>\n",
       "      <td>998.0</td>\n",
       "      <td>1494.50</td>\n",
       "      <td>1994.0</td>\n",
       "    </tr>\n",
       "    <tr>\n",
       "      <th>is_duplicate</th>\n",
       "      <td>1000.0</td>\n",
       "      <td>0.380</td>\n",
       "      <td>0.485629</td>\n",
       "      <td>0.0</td>\n",
       "      <td>0.00</td>\n",
       "      <td>0.0</td>\n",
       "      <td>1.00</td>\n",
       "      <td>1.0</td>\n",
       "    </tr>\n",
       "  </tbody>\n",
       "</table>\n",
       "</div>"
      ],
      "text/plain": [
       "               count     mean         std  min     25%    50%      75%     max\n",
       "id            1000.0  499.500  288.819436  0.0  249.75  499.5   749.25   999.0\n",
       "qid1          1000.0  995.794  575.681665  1.0  498.50  995.0  1493.50  1993.0\n",
       "qid2          1000.0  996.743  576.523005  2.0  497.50  998.0  1494.50  1994.0\n",
       "is_duplicate  1000.0    0.380    0.485629  0.0    0.00    0.0     1.00     1.0"
      ]
     },
     "execution_count": 9,
     "metadata": {},
     "output_type": "execute_result"
    }
   ],
   "source": [
    "df.describe().T"
   ]
  },
  {
   "cell_type": "code",
   "execution_count": 10,
   "metadata": {},
   "outputs": [
    {
     "data": {
      "text/plain": [
       "count                    1000\n",
       "unique                    999\n",
       "top       Why do Slavs squat?\n",
       "freq                        2\n",
       "Name: question1, dtype: object"
      ]
     },
     "execution_count": 10,
     "metadata": {},
     "output_type": "execute_result"
    }
   ],
   "source": [
    "df.question1.describe()"
   ]
  },
  {
   "cell_type": "code",
   "execution_count": 11,
   "metadata": {},
   "outputs": [
    {
     "data": {
      "text/plain": [
       "count                                     1000\n",
       "unique                                     997\n",
       "top       How do I make money through YouTube?\n",
       "freq                                         2\n",
       "Name: question2, dtype: object"
      ]
     },
     "execution_count": 11,
     "metadata": {},
     "output_type": "execute_result"
    }
   ],
   "source": [
    "df.question2.describe()"
   ]
  },
  {
   "cell_type": "code",
   "execution_count": 12,
   "metadata": {},
   "outputs": [
    {
     "data": {
      "text/html": [
       "<div>\n",
       "<style scoped>\n",
       "    .dataframe tbody tr th:only-of-type {\n",
       "        vertical-align: middle;\n",
       "    }\n",
       "\n",
       "    .dataframe tbody tr th {\n",
       "        vertical-align: top;\n",
       "    }\n",
       "\n",
       "    .dataframe thead th {\n",
       "        text-align: right;\n",
       "    }\n",
       "</style>\n",
       "<table border=\"1\" class=\"dataframe\">\n",
       "  <thead>\n",
       "    <tr style=\"text-align: right;\">\n",
       "      <th></th>\n",
       "      <th>id</th>\n",
       "      <th>qid1</th>\n",
       "      <th>qid2</th>\n",
       "      <th>question1</th>\n",
       "      <th>question2</th>\n",
       "      <th>is_duplicate</th>\n",
       "    </tr>\n",
       "  </thead>\n",
       "  <tbody>\n",
       "    <tr>\n",
       "      <th>0</th>\n",
       "      <td>0</td>\n",
       "      <td>1</td>\n",
       "      <td>2</td>\n",
       "      <td>What is the step by step guide to invest in sh...</td>\n",
       "      <td>What is the step by step guide to invest in sh...</td>\n",
       "      <td>0</td>\n",
       "    </tr>\n",
       "    <tr>\n",
       "      <th>1</th>\n",
       "      <td>1</td>\n",
       "      <td>3</td>\n",
       "      <td>4</td>\n",
       "      <td>What is the story of Kohinoor (Koh-i-Noor) Dia...</td>\n",
       "      <td>What would happen if the Indian government sto...</td>\n",
       "      <td>0</td>\n",
       "    </tr>\n",
       "    <tr>\n",
       "      <th>2</th>\n",
       "      <td>2</td>\n",
       "      <td>5</td>\n",
       "      <td>6</td>\n",
       "      <td>How can I increase the speed of my internet co...</td>\n",
       "      <td>How can Internet speed be increased by hacking...</td>\n",
       "      <td>0</td>\n",
       "    </tr>\n",
       "    <tr>\n",
       "      <th>3</th>\n",
       "      <td>3</td>\n",
       "      <td>7</td>\n",
       "      <td>8</td>\n",
       "      <td>Why am I mentally very lonely? How can I solve...</td>\n",
       "      <td>Find the remainder when [math]23^{24}[/math] i...</td>\n",
       "      <td>0</td>\n",
       "    </tr>\n",
       "    <tr>\n",
       "      <th>4</th>\n",
       "      <td>4</td>\n",
       "      <td>9</td>\n",
       "      <td>10</td>\n",
       "      <td>Which one dissolve in water quikly sugar, salt...</td>\n",
       "      <td>Which fish would survive in salt water?</td>\n",
       "      <td>0</td>\n",
       "    </tr>\n",
       "  </tbody>\n",
       "</table>\n",
       "</div>"
      ],
      "text/plain": [
       "   id  qid1  qid2                                          question1  \\\n",
       "0   0     1     2  What is the step by step guide to invest in sh...   \n",
       "1   1     3     4  What is the story of Kohinoor (Koh-i-Noor) Dia...   \n",
       "2   2     5     6  How can I increase the speed of my internet co...   \n",
       "3   3     7     8  Why am I mentally very lonely? How can I solve...   \n",
       "4   4     9    10  Which one dissolve in water quikly sugar, salt...   \n",
       "\n",
       "                                           question2  is_duplicate  \n",
       "0  What is the step by step guide to invest in sh...             0  \n",
       "1  What would happen if the Indian government sto...             0  \n",
       "2  How can Internet speed be increased by hacking...             0  \n",
       "3  Find the remainder when [math]23^{24}[/math] i...             0  \n",
       "4            Which fish would survive in salt water?             0  "
      ]
     },
     "execution_count": 12,
     "metadata": {},
     "output_type": "execute_result"
    }
   ],
   "source": [
    "df.head()"
   ]
  },
  {
   "cell_type": "code",
   "execution_count": 13,
   "metadata": {},
   "outputs": [
    {
     "data": {
      "text/plain": [
       "0    0.62\n",
       "1    0.38\n",
       "Name: is_duplicate, dtype: float64"
      ]
     },
     "execution_count": 13,
     "metadata": {},
     "output_type": "execute_result"
    }
   ],
   "source": [
    "#null accuracy\n",
    "df.is_duplicate.value_counts(normalize=True)"
   ]
  },
  {
   "cell_type": "code",
   "execution_count": 14,
   "metadata": {},
   "outputs": [
    {
     "data": {
      "text/plain": [
       "<matplotlib.axes._subplots.AxesSubplot at 0x1be0324f0b8>"
      ]
     },
     "execution_count": 14,
     "metadata": {},
     "output_type": "execute_result"
    },
    {
     "data": {
      "image/png": "[encoded data removed]",
      "text/plain": [
       "<Figure size 432x288 with 1 Axes>"
      ]
     },
     "metadata": {},
     "output_type": "display_data"
    }
   ],
   "source": [
    "#Target distribution\n",
    "df.groupby('is_duplicate')['id'].count().plot.bar()"
   ]
  },
  {
   "cell_type": "code",
   "execution_count": 15,
   "metadata": {},
   "outputs": [],
   "source": [
    "#question statistics\n",
    "qids = pd.Series(list(df.qid1) + list(df.qid2))\n",
    "num_unique_ques     = len(qids.unique())\n",
    "num_non_unique_ques = np.sum(qids.value_counts() > 1)\n",
    "max_repeat = np.max(qids.value_counts())"
   ]
  },
  {
   "cell_type": "code",
   "execution_count": 16,
   "metadata": {},
   "outputs": [
    {
     "data": {
      "text/plain": [
       "(1994, 6, 2)"
      ]
     },
     "execution_count": 16,
     "metadata": {},
     "output_type": "execute_result"
    }
   ],
   "source": [
    "num_unique_ques, num_non_unique_ques, max_repeat"
   ]
  },
  {
   "cell_type": "code",
   "execution_count": 17,
   "metadata": {},
   "outputs": [
    {
     "data": {
      "text/plain": [
       "count     2000\n",
       "unique    1994\n",
       "top        883\n",
       "freq         2\n",
       "dtype: object"
      ]
     },
     "execution_count": 17,
     "metadata": {},
     "output_type": "execute_result"
    }
   ],
   "source": [
    "# df[['qid1','qid2','is_duplicate']].groupby(['qid1','qid2']).count()\n",
    "qids.astype(str).describe()"
   ]
  },
  {
   "cell_type": "code",
   "execution_count": 18,
   "metadata": {},
   "outputs": [
    {
     "data": {
      "text/plain": [
       "array([], dtype=object)"
      ]
     },
     "execution_count": 18,
     "metadata": {},
     "output_type": "execute_result"
    }
   ],
   "source": [
    "#repeated question\n",
    "df[df.qid1 == 2559].question1.unique()"
   ]
  },
  {
   "cell_type": "code",
   "execution_count": 19,
   "metadata": {},
   "outputs": [
    {
     "data": {
      "image/png": "[encoded data removed]",
      "text/plain": [
       "<Figure size 432x288 with 1 Axes>"
      ]
     },
     "metadata": {},
     "output_type": "display_data"
    }
   ],
   "source": [
    "plt.hist(qids.value_counts(), bins=160)\n",
    "plt.yscale('log', nonposy='clip')"
   ]
  },
  {
   "cell_type": "code",
   "execution_count": 20,
   "metadata": {},
   "outputs": [
    {
     "data": {
      "text/html": [
       "<div>\n",
       "<style scoped>\n",
       "    .dataframe tbody tr th:only-of-type {\n",
       "        vertical-align: middle;\n",
       "    }\n",
       "\n",
       "    .dataframe tbody tr th {\n",
       "        vertical-align: top;\n",
       "    }\n",
       "\n",
       "    .dataframe thead th {\n",
       "        text-align: right;\n",
       "    }\n",
       "</style>\n",
       "<table border=\"1\" class=\"dataframe\">\n",
       "  <thead>\n",
       "    <tr style=\"text-align: right;\">\n",
       "      <th></th>\n",
       "      <th>id</th>\n",
       "      <th>qid1</th>\n",
       "      <th>qid2</th>\n",
       "      <th>question1</th>\n",
       "      <th>question2</th>\n",
       "      <th>is_duplicate</th>\n",
       "      <th>freq_qid1</th>\n",
       "      <th>freq_qid2</th>\n",
       "      <th>q1len</th>\n",
       "      <th>q2len</th>\n",
       "      <th>q1_n_words</th>\n",
       "      <th>q2_n_words</th>\n",
       "      <th>word_Common</th>\n",
       "      <th>word_Total</th>\n",
       "      <th>word_share</th>\n",
       "      <th>freq_q1+q2</th>\n",
       "      <th>freq_q1-q2</th>\n",
       "    </tr>\n",
       "  </thead>\n",
       "  <tbody>\n",
       "    <tr>\n",
       "      <th>0</th>\n",
       "      <td>0</td>\n",
       "      <td>1</td>\n",
       "      <td>2</td>\n",
       "      <td>What is the step by step guide to invest in sh...</td>\n",
       "      <td>What is the step by step guide to invest in sh...</td>\n",
       "      <td>0</td>\n",
       "      <td>1</td>\n",
       "      <td>1</td>\n",
       "      <td>66</td>\n",
       "      <td>57</td>\n",
       "      <td>14</td>\n",
       "      <td>12</td>\n",
       "      <td>10</td>\n",
       "      <td>23</td>\n",
       "      <td>0.434783</td>\n",
       "      <td>2</td>\n",
       "      <td>0</td>\n",
       "    </tr>\n",
       "    <tr>\n",
       "      <th>1</th>\n",
       "      <td>1</td>\n",
       "      <td>3</td>\n",
       "      <td>4</td>\n",
       "      <td>What is the story of Kohinoor (Koh-i-Noor) Dia...</td>\n",
       "      <td>What would happen if the Indian government sto...</td>\n",
       "      <td>0</td>\n",
       "      <td>1</td>\n",
       "      <td>1</td>\n",
       "      <td>51</td>\n",
       "      <td>88</td>\n",
       "      <td>8</td>\n",
       "      <td>13</td>\n",
       "      <td>4</td>\n",
       "      <td>20</td>\n",
       "      <td>0.200000</td>\n",
       "      <td>2</td>\n",
       "      <td>0</td>\n",
       "    </tr>\n",
       "    <tr>\n",
       "      <th>2</th>\n",
       "      <td>2</td>\n",
       "      <td>5</td>\n",
       "      <td>6</td>\n",
       "      <td>How can I increase the speed of my internet co...</td>\n",
       "      <td>How can Internet speed be increased by hacking...</td>\n",
       "      <td>0</td>\n",
       "      <td>1</td>\n",
       "      <td>1</td>\n",
       "      <td>73</td>\n",
       "      <td>59</td>\n",
       "      <td>14</td>\n",
       "      <td>10</td>\n",
       "      <td>3</td>\n",
       "      <td>24</td>\n",
       "      <td>0.125000</td>\n",
       "      <td>2</td>\n",
       "      <td>0</td>\n",
       "    </tr>\n",
       "    <tr>\n",
       "      <th>3</th>\n",
       "      <td>3</td>\n",
       "      <td>7</td>\n",
       "      <td>8</td>\n",
       "      <td>Why am I mentally very lonely? How can I solve...</td>\n",
       "      <td>Find the remainder when [math]23^{24}[/math] i...</td>\n",
       "      <td>0</td>\n",
       "      <td>1</td>\n",
       "      <td>1</td>\n",
       "      <td>50</td>\n",
       "      <td>65</td>\n",
       "      <td>11</td>\n",
       "      <td>9</td>\n",
       "      <td>0</td>\n",
       "      <td>19</td>\n",
       "      <td>0.000000</td>\n",
       "      <td>2</td>\n",
       "      <td>0</td>\n",
       "    </tr>\n",
       "    <tr>\n",
       "      <th>4</th>\n",
       "      <td>4</td>\n",
       "      <td>9</td>\n",
       "      <td>10</td>\n",
       "      <td>Which one dissolve in water quikly sugar, salt...</td>\n",
       "      <td>Which fish would survive in salt water?</td>\n",
       "      <td>0</td>\n",
       "      <td>1</td>\n",
       "      <td>1</td>\n",
       "      <td>76</td>\n",
       "      <td>39</td>\n",
       "      <td>13</td>\n",
       "      <td>7</td>\n",
       "      <td>2</td>\n",
       "      <td>20</td>\n",
       "      <td>0.100000</td>\n",
       "      <td>2</td>\n",
       "      <td>0</td>\n",
       "    </tr>\n",
       "  </tbody>\n",
       "</table>\n",
       "</div>"
      ],
      "text/plain": [
       "   id  qid1  qid2                                          question1  \\\n",
       "0   0     1     2  What is the step by step guide to invest in sh...   \n",
       "1   1     3     4  What is the story of Kohinoor (Koh-i-Noor) Dia...   \n",
       "2   2     5     6  How can I increase the speed of my internet co...   \n",
       "3   3     7     8  Why am I mentally very lonely? How can I solve...   \n",
       "4   4     9    10  Which one dissolve in water quikly sugar, salt...   \n",
       "\n",
       "                                           question2  is_duplicate  freq_qid1  \\\n",
       "0  What is the step by step guide to invest in sh...             0          1   \n",
       "1  What would happen if the Indian government sto...             0          1   \n",
       "2  How can Internet speed be increased by hacking...             0          1   \n",
       "3  Find the remainder when [math]23^{24}[/math] i...             0          1   \n",
       "4            Which fish would survive in salt water?             0          1   \n",
       "\n",
       "   freq_qid2  q1len  q2len  q1_n_words  q2_n_words  word_Common  word_Total  \\\n",
       "0          1     66     57          14          12           10          23   \n",
       "1          1     51     88           8          13            4          20   \n",
       "2          1     73     59          14          10            3          24   \n",
       "3          1     50     65          11           9            0          19   \n",
       "4          1     76     39          13           7            2          20   \n",
       "\n",
       "   word_share  freq_q1+q2  freq_q1-q2  \n",
       "0    0.434783           2           0  \n",
       "1    0.200000           2           0  \n",
       "2    0.125000           2           0  \n",
       "3    0.000000           2           0  \n",
       "4    0.100000           2           0  "
      ]
     },
     "execution_count": 20,
     "metadata": {},
     "output_type": "execute_result"
    }
   ],
   "source": [
    "df['freq_qid1'] = df.groupby('qid1')['qid1'].transform('count') \n",
    "df['freq_qid2'] = df.groupby('qid2')['qid2'].transform('count')\n",
    "df['q1len'] = df['question1'].str.len() \n",
    "df['q2len'] = df['question2'].str.len()\n",
    "df['q1_n_words'] = df['question1'].apply(lambda row: len(row.split(\" \")))\n",
    "df['q2_n_words'] = df['question2'].apply(lambda row: len(row.split(\" \")))\n",
    "\n",
    "df['word_Common'] = df[['question1', 'question2']].apply(lambda q: len(set(q[0].strip().split(\" \")).intersection(set(q[1].strip().split(\" \")))), axis=1)\n",
    "df['word_Total'] = df[['question1', 'question2']].apply(lambda q: len(set(q[0].strip().split(\" \"))) + len(set(q[1].strip().split(\" \"))), axis=1)\n",
    "\n",
    "df['word_share'] = df['word_Common']/df['word_Total'] \n",
    "df['freq_q1+q2'] = df['freq_qid1']+df['freq_qid2']\n",
    "df['freq_q1-q2'] = abs(df['freq_qid1']-df['freq_qid2'])\n",
    "\n",
    "df.head()\n",
    "\n",
    "# word_Common = (Number of common unique words in Question 1 and Question 2)\n",
    "\n",
    "# document_1_text = 'This is document one'\n",
    "# document_2_text = 'This is document two'\n",
    "\n",
    "# set(document_1_text.split(\" \")).symmetric_difference((set(document_2_text.split(\" \"))))\n",
    "# set(document_1_text.split(\" \")).intersection((set(document_2_text.split(\" \"))))\n",
    "# df[['question1', 'question2']].apply(lambda q: set(q[0].split(\" \")).intersection((set(q[1].split(\" \")))), axis=1)\n",
    "\n",
    "# df[['question1', 'question2']].apply(lambda q: set(q[0].split(\" \"))..intersection((set(q[1].split(\" \")))), axis=1)\n",
    "    \n",
    "# print(set(document_1_text.split(\" \")).intersection(set(document_2_text.split(\" \"))))\n",
    "# print(set(document_1_text.split(\" \")).union(set(document_2_text.split(\" \"))))\n",
    "\n",
    "\n",
    "\n",
    "\n"
   ]
  },
  {
   "cell_type": "code",
   "execution_count": 21,
   "metadata": {},
   "outputs": [
    {
     "name": "stdout",
     "output_type": "stream",
     "text": [
      "<class 'pandas.core.frame.DataFrame'>\n",
      "RangeIndex: 1000 entries, 0 to 999\n",
      "Data columns (total 17 columns):\n",
      "id              1000 non-null int64\n",
      "qid1            1000 non-null int64\n",
      "qid2            1000 non-null int64\n",
      "question1       1000 non-null object\n",
      "question2       1000 non-null object\n",
      "is_duplicate    1000 non-null int64\n",
      "freq_qid1       1000 non-null int64\n",
      "freq_qid2       1000 non-null int64\n",
      "q1len           1000 non-null int64\n",
      "q2len           1000 non-null int64\n",
      "q1_n_words      1000 non-null int64\n",
      "q2_n_words      1000 non-null int64\n",
      "word_Common     1000 non-null int64\n",
      "word_Total      1000 non-null int64\n",
      "word_share      1000 non-null float64\n",
      "freq_q1+q2      1000 non-null int64\n",
      "freq_q1-q2      1000 non-null int64\n",
      "dtypes: float64(1), int64(14), object(2)\n",
      "memory usage: 132.9+ KB\n"
     ]
    }
   ],
   "source": [
    "df.info()"
   ]
  },
  {
   "cell_type": "code",
   "execution_count": 22,
   "metadata": {},
   "outputs": [
    {
     "data": {
      "text/html": [
       "<div>\n",
       "<style scoped>\n",
       "    .dataframe tbody tr th:only-of-type {\n",
       "        vertical-align: middle;\n",
       "    }\n",
       "\n",
       "    .dataframe tbody tr th {\n",
       "        vertical-align: top;\n",
       "    }\n",
       "\n",
       "    .dataframe thead th {\n",
       "        text-align: right;\n",
       "    }\n",
       "</style>\n",
       "<table border=\"1\" class=\"dataframe\">\n",
       "  <thead>\n",
       "    <tr style=\"text-align: right;\">\n",
       "      <th></th>\n",
       "      <th>id</th>\n",
       "      <th>qid1</th>\n",
       "      <th>qid2</th>\n",
       "      <th>is_duplicate</th>\n",
       "      <th>freq_qid1</th>\n",
       "      <th>freq_qid2</th>\n",
       "      <th>q1len</th>\n",
       "      <th>q2len</th>\n",
       "      <th>q1_n_words</th>\n",
       "      <th>q2_n_words</th>\n",
       "      <th>word_Common</th>\n",
       "      <th>word_Total</th>\n",
       "      <th>word_share</th>\n",
       "      <th>freq_q1+q2</th>\n",
       "      <th>freq_q1-q2</th>\n",
       "    </tr>\n",
       "  </thead>\n",
       "  <tbody>\n",
       "    <tr>\n",
       "      <th>id</th>\n",
       "      <td>1.000000</td>\n",
       "      <td>0.999137</td>\n",
       "      <td>0.999022</td>\n",
       "      <td>0.010455</td>\n",
       "      <td>-0.053888</td>\n",
       "      <td>-0.044318</td>\n",
       "      <td>0.006653</td>\n",
       "      <td>-0.011122</td>\n",
       "      <td>-0.001449</td>\n",
       "      <td>-0.014868</td>\n",
       "      <td>-0.000557</td>\n",
       "      <td>-0.002236</td>\n",
       "      <td>0.013705</td>\n",
       "      <td>-0.065445</td>\n",
       "      <td>-0.065445</td>\n",
       "    </tr>\n",
       "    <tr>\n",
       "      <th>qid1</th>\n",
       "      <td>0.999137</td>\n",
       "      <td>1.000000</td>\n",
       "      <td>0.998157</td>\n",
       "      <td>0.009375</td>\n",
       "      <td>-0.071172</td>\n",
       "      <td>-0.044103</td>\n",
       "      <td>0.008299</td>\n",
       "      <td>-0.009606</td>\n",
       "      <td>0.000218</td>\n",
       "      <td>-0.013425</td>\n",
       "      <td>-0.000344</td>\n",
       "      <td>-0.000435</td>\n",
       "      <td>0.013223</td>\n",
       "      <td>-0.073926</td>\n",
       "      <td>-0.073926</td>\n",
       "    </tr>\n",
       "    <tr>\n",
       "      <th>qid2</th>\n",
       "      <td>0.999022</td>\n",
       "      <td>0.998157</td>\n",
       "      <td>1.000000</td>\n",
       "      <td>0.007650</td>\n",
       "      <td>-0.053701</td>\n",
       "      <td>-0.072863</td>\n",
       "      <td>0.006989</td>\n",
       "      <td>-0.010625</td>\n",
       "      <td>-0.000987</td>\n",
       "      <td>-0.014479</td>\n",
       "      <td>-0.000915</td>\n",
       "      <td>-0.001931</td>\n",
       "      <td>0.013017</td>\n",
       "      <td>-0.090096</td>\n",
       "      <td>-0.090096</td>\n",
       "    </tr>\n",
       "    <tr>\n",
       "      <th>is_duplicate</th>\n",
       "      <td>0.010455</td>\n",
       "      <td>0.009375</td>\n",
       "      <td>0.007650</td>\n",
       "      <td>1.000000</td>\n",
       "      <td>-0.035047</td>\n",
       "      <td>0.099240</td>\n",
       "      <td>-0.177177</td>\n",
       "      <td>-0.195426</td>\n",
       "      <td>-0.153338</td>\n",
       "      <td>-0.184193</td>\n",
       "      <td>0.250752</td>\n",
       "      <td>-0.188531</td>\n",
       "      <td>0.379830</td>\n",
       "      <td>0.068455</td>\n",
       "      <td>0.068455</td>\n",
       "    </tr>\n",
       "    <tr>\n",
       "      <th>freq_qid1</th>\n",
       "      <td>-0.053888</td>\n",
       "      <td>-0.071172</td>\n",
       "      <td>-0.053701</td>\n",
       "      <td>-0.035047</td>\n",
       "      <td>1.000000</td>\n",
       "      <td>-0.003478</td>\n",
       "      <td>-0.060024</td>\n",
       "      <td>-0.044778</td>\n",
       "      <td>-0.056622</td>\n",
       "      <td>-0.042870</td>\n",
       "      <td>-0.063802</td>\n",
       "      <td>-0.059925</td>\n",
       "      <td>-0.073009</td>\n",
       "      <td>0.498495</td>\n",
       "      <td>0.498495</td>\n",
       "    </tr>\n",
       "    <tr>\n",
       "      <th>freq_qid2</th>\n",
       "      <td>-0.044318</td>\n",
       "      <td>-0.044103</td>\n",
       "      <td>-0.072863</td>\n",
       "      <td>0.099240</td>\n",
       "      <td>-0.003478</td>\n",
       "      <td>1.000000</td>\n",
       "      <td>-0.031868</td>\n",
       "      <td>-0.027275</td>\n",
       "      <td>-0.029608</td>\n",
       "      <td>-0.022986</td>\n",
       "      <td>0.029712</td>\n",
       "      <td>-0.025936</td>\n",
       "      <td>0.054767</td>\n",
       "      <td>0.865154</td>\n",
       "      <td>0.865154</td>\n",
       "    </tr>\n",
       "    <tr>\n",
       "      <th>q1len</th>\n",
       "      <td>0.006653</td>\n",
       "      <td>0.008299</td>\n",
       "      <td>0.006989</td>\n",
       "      <td>-0.177177</td>\n",
       "      <td>-0.060024</td>\n",
       "      <td>-0.031868</td>\n",
       "      <td>1.000000</td>\n",
       "      <td>0.521262</td>\n",
       "      <td>0.954746</td>\n",
       "      <td>0.506713</td>\n",
       "      <td>0.286242</td>\n",
       "      <td>0.825670</td>\n",
       "      <td>-0.161240</td>\n",
       "      <td>-0.057729</td>\n",
       "      <td>-0.057729</td>\n",
       "    </tr>\n",
       "    <tr>\n",
       "      <th>q2len</th>\n",
       "      <td>-0.011122</td>\n",
       "      <td>-0.009606</td>\n",
       "      <td>-0.010625</td>\n",
       "      <td>-0.195426</td>\n",
       "      <td>-0.044778</td>\n",
       "      <td>-0.027275</td>\n",
       "      <td>0.521262</td>\n",
       "      <td>1.000000</td>\n",
       "      <td>0.491988</td>\n",
       "      <td>0.960891</td>\n",
       "      <td>0.249557</td>\n",
       "      <td>0.839675</td>\n",
       "      <td>-0.189091</td>\n",
       "      <td>-0.046101</td>\n",
       "      <td>-0.046101</td>\n",
       "    </tr>\n",
       "    <tr>\n",
       "      <th>q1_n_words</th>\n",
       "      <td>-0.001449</td>\n",
       "      <td>0.000218</td>\n",
       "      <td>-0.000987</td>\n",
       "      <td>-0.153338</td>\n",
       "      <td>-0.056622</td>\n",
       "      <td>-0.029608</td>\n",
       "      <td>0.954746</td>\n",
       "      <td>0.491988</td>\n",
       "      <td>1.000000</td>\n",
       "      <td>0.522980</td>\n",
       "      <td>0.307951</td>\n",
       "      <td>0.853963</td>\n",
       "      <td>-0.150336</td>\n",
       "      <td>-0.054063</td>\n",
       "      <td>-0.054063</td>\n",
       "    </tr>\n",
       "    <tr>\n",
       "      <th>q2_n_words</th>\n",
       "      <td>-0.014868</td>\n",
       "      <td>-0.013425</td>\n",
       "      <td>-0.014479</td>\n",
       "      <td>-0.184193</td>\n",
       "      <td>-0.042870</td>\n",
       "      <td>-0.022986</td>\n",
       "      <td>0.506713</td>\n",
       "      <td>0.960891</td>\n",
       "      <td>0.522980</td>\n",
       "      <td>1.000000</td>\n",
       "      <td>0.265678</td>\n",
       "      <td>0.873304</td>\n",
       "      <td>-0.185822</td>\n",
       "      <td>-0.041426</td>\n",
       "      <td>-0.041426</td>\n",
       "    </tr>\n",
       "    <tr>\n",
       "      <th>word_Common</th>\n",
       "      <td>-0.000557</td>\n",
       "      <td>-0.000344</td>\n",
       "      <td>-0.000915</td>\n",
       "      <td>0.250752</td>\n",
       "      <td>-0.063802</td>\n",
       "      <td>0.029712</td>\n",
       "      <td>0.286242</td>\n",
       "      <td>0.249557</td>\n",
       "      <td>0.307951</td>\n",
       "      <td>0.265678</td>\n",
       "      <td>1.000000</td>\n",
       "      <td>0.332072</td>\n",
       "      <td>0.798207</td>\n",
       "      <td>-0.006240</td>\n",
       "      <td>-0.006240</td>\n",
       "    </tr>\n",
       "    <tr>\n",
       "      <th>word_Total</th>\n",
       "      <td>-0.002236</td>\n",
       "      <td>-0.000435</td>\n",
       "      <td>-0.001931</td>\n",
       "      <td>-0.188531</td>\n",
       "      <td>-0.059925</td>\n",
       "      <td>-0.025936</td>\n",
       "      <td>0.825670</td>\n",
       "      <td>0.839675</td>\n",
       "      <td>0.853963</td>\n",
       "      <td>0.873304</td>\n",
       "      <td>0.332072</td>\n",
       "      <td>1.000000</td>\n",
       "      <td>-0.194759</td>\n",
       "      <td>-0.052537</td>\n",
       "      <td>-0.052537</td>\n",
       "    </tr>\n",
       "    <tr>\n",
       "      <th>word_share</th>\n",
       "      <td>0.013705</td>\n",
       "      <td>0.013223</td>\n",
       "      <td>0.013017</td>\n",
       "      <td>0.379830</td>\n",
       "      <td>-0.073009</td>\n",
       "      <td>0.054767</td>\n",
       "      <td>-0.161240</td>\n",
       "      <td>-0.189091</td>\n",
       "      <td>-0.150336</td>\n",
       "      <td>-0.185822</td>\n",
       "      <td>0.798207</td>\n",
       "      <td>-0.194759</td>\n",
       "      <td>1.000000</td>\n",
       "      <td>0.010863</td>\n",
       "      <td>0.010863</td>\n",
       "    </tr>\n",
       "    <tr>\n",
       "      <th>freq_q1+q2</th>\n",
       "      <td>-0.065445</td>\n",
       "      <td>-0.073926</td>\n",
       "      <td>-0.090096</td>\n",
       "      <td>0.068455</td>\n",
       "      <td>0.498495</td>\n",
       "      <td>0.865154</td>\n",
       "      <td>-0.057729</td>\n",
       "      <td>-0.046101</td>\n",
       "      <td>-0.054063</td>\n",
       "      <td>-0.041426</td>\n",
       "      <td>-0.006240</td>\n",
       "      <td>-0.052537</td>\n",
       "      <td>0.010863</td>\n",
       "      <td>1.000000</td>\n",
       "      <td>1.000000</td>\n",
       "    </tr>\n",
       "    <tr>\n",
       "      <th>freq_q1-q2</th>\n",
       "      <td>-0.065445</td>\n",
       "      <td>-0.073926</td>\n",
       "      <td>-0.090096</td>\n",
       "      <td>0.068455</td>\n",
       "      <td>0.498495</td>\n",
       "      <td>0.865154</td>\n",
       "      <td>-0.057729</td>\n",
       "      <td>-0.046101</td>\n",
       "      <td>-0.054063</td>\n",
       "      <td>-0.041426</td>\n",
       "      <td>-0.006240</td>\n",
       "      <td>-0.052537</td>\n",
       "      <td>0.010863</td>\n",
       "      <td>1.000000</td>\n",
       "      <td>1.000000</td>\n",
       "    </tr>\n",
       "  </tbody>\n",
       "</table>\n",
       "</div>"
      ],
      "text/plain": [
       "                    id      qid1      qid2  is_duplicate  freq_qid1  \\\n",
       "id            1.000000  0.999137  0.999022      0.010455  -0.053888   \n",
       "qid1          0.999137  1.000000  0.998157      0.009375  -0.071172   \n",
       "qid2          0.999022  0.998157  1.000000      0.007650  -0.053701   \n",
       "is_duplicate  0.010455  0.009375  0.007650      1.000000  -0.035047   \n",
       "freq_qid1    -0.053888 -0.071172 -0.053701     -0.035047   1.000000   \n",
       "freq_qid2    -0.044318 -0.044103 -0.072863      0.099240  -0.003478   \n",
       "q1len         0.006653  0.008299  0.006989     -0.177177  -0.060024   \n",
       "q2len        -0.011122 -0.009606 -0.010625     -0.195426  -0.044778   \n",
       "q1_n_words   -0.001449  0.000218 -0.000987     -0.153338  -0.056622   \n",
       "q2_n_words   -0.014868 -0.013425 -0.014479     -0.184193  -0.042870   \n",
       "word_Common  -0.000557 -0.000344 -0.000915      0.250752  -0.063802   \n",
       "word_Total   -0.002236 -0.000435 -0.001931     -0.188531  -0.059925   \n",
       "word_share    0.013705  0.013223  0.013017      0.379830  -0.073009   \n",
       "freq_q1+q2   -0.065445 -0.073926 -0.090096      0.068455   0.498495   \n",
       "freq_q1-q2   -0.065445 -0.073926 -0.090096      0.068455   0.498495   \n",
       "\n",
       "              freq_qid2     q1len     q2len  q1_n_words  q2_n_words  \\\n",
       "id            -0.044318  0.006653 -0.011122   -0.001449   -0.014868   \n",
       "qid1          -0.044103  0.008299 -0.009606    0.000218   -0.013425   \n",
       "qid2          -0.072863  0.006989 -0.010625   -0.000987   -0.014479   \n",
       "is_duplicate   0.099240 -0.177177 -0.195426   -0.153338   -0.184193   \n",
       "freq_qid1     -0.003478 -0.060024 -0.044778   -0.056622   -0.042870   \n",
       "freq_qid2      1.000000 -0.031868 -0.027275   -0.029608   -0.022986   \n",
       "q1len         -0.031868  1.000000  0.521262    0.954746    0.506713   \n",
       "q2len         -0.027275  0.521262  1.000000    0.491988    0.960891   \n",
       "q1_n_words    -0.029608  0.954746  0.491988    1.000000    0.522980   \n",
       "q2_n_words    -0.022986  0.506713  0.960891    0.522980    1.000000   \n",
       "word_Common    0.029712  0.286242  0.249557    0.307951    0.265678   \n",
       "word_Total    -0.025936  0.825670  0.839675    0.853963    0.873304   \n",
       "word_share     0.054767 -0.161240 -0.189091   -0.150336   -0.185822   \n",
       "freq_q1+q2     0.865154 -0.057729 -0.046101   -0.054063   -0.041426   \n",
       "freq_q1-q2     0.865154 -0.057729 -0.046101   -0.054063   -0.041426   \n",
       "\n",
       "              word_Common  word_Total  word_share  freq_q1+q2  freq_q1-q2  \n",
       "id              -0.000557   -0.002236    0.013705   -0.065445   -0.065445  \n",
       "qid1            -0.000344   -0.000435    0.013223   -0.073926   -0.073926  \n",
       "qid2            -0.000915   -0.001931    0.013017   -0.090096   -0.090096  \n",
       "is_duplicate     0.250752   -0.188531    0.379830    0.068455    0.068455  \n",
       "freq_qid1       -0.063802   -0.059925   -0.073009    0.498495    0.498495  \n",
       "freq_qid2        0.029712   -0.025936    0.054767    0.865154    0.865154  \n",
       "q1len            0.286242    0.825670   -0.161240   -0.057729   -0.057729  \n",
       "q2len            0.249557    0.839675   -0.189091   -0.046101   -0.046101  \n",
       "q1_n_words       0.307951    0.853963   -0.150336   -0.054063   -0.054063  \n",
       "q2_n_words       0.265678    0.873304   -0.185822   -0.041426   -0.041426  \n",
       "word_Common      1.000000    0.332072    0.798207   -0.006240   -0.006240  \n",
       "word_Total       0.332072    1.000000   -0.194759   -0.052537   -0.052537  \n",
       "word_share       0.798207   -0.194759    1.000000    0.010863    0.010863  \n",
       "freq_q1+q2      -0.006240   -0.052537    0.010863    1.000000    1.000000  \n",
       "freq_q1-q2      -0.006240   -0.052537    0.010863    1.000000    1.000000  "
      ]
     },
     "execution_count": 22,
     "metadata": {},
     "output_type": "execute_result"
    }
   ],
   "source": [
    "df.corr()"
   ]
  },
  {
   "cell_type": "code",
   "execution_count": 23,
   "metadata": {},
   "outputs": [
    {
     "data": {
      "text/plain": [
       "<matplotlib.axes._subplots.AxesSubplot at 0x1be08f50b38>"
      ]
     },
     "execution_count": 23,
     "metadata": {},
     "output_type": "execute_result"
    },
    {
     "data": {
      "image/png": "[encoded data removed]",
      "text/plain": [
       "<Figure size 432x288 with 2 Axes>"
      ]
     },
     "metadata": {},
     "output_type": "display_data"
    }
   ],
   "source": [
    "sns.heatmap(df.corr())"
   ]
  },
  {
   "cell_type": "code",
   "execution_count": 24,
   "metadata": {},
   "outputs": [],
   "source": [
    "#fields correlated with independent variable is_duplicate: freq_qid1, freq_quid2, word_common, word_share, freq_q1+q2, freq_q1-q2\n",
    "#There is also a very strong corelation between dependent variables freq_qid1 with freq_qid2, freq_q1+q2, freq_q1-q2; \n",
    "#word_total with q1len, q2len, q1_n_words, q2_n_words;\n",
    "#word_common with word_share"
   ]
  },
  {
   "cell_type": "code",
   "execution_count": 25,
   "metadata": {},
   "outputs": [
    {
     "data": {
      "text/plain": [
       "id              0.010455\n",
       "qid1            0.009375\n",
       "qid2            0.007650\n",
       "is_duplicate    1.000000\n",
       "freq_qid1      -0.035047\n",
       "freq_qid2       0.099240\n",
       "q1len          -0.177177\n",
       "q2len          -0.195426\n",
       "q1_n_words     -0.153338\n",
       "q2_n_words     -0.184193\n",
       "word_Common     0.250752\n",
       "word_Total     -0.188531\n",
       "word_share      0.379830\n",
       "freq_q1+q2      0.068455\n",
       "freq_q1-q2      0.068455\n",
       "Name: is_duplicate, dtype: float64"
      ]
     },
     "execution_count": 25,
     "metadata": {},
     "output_type": "execute_result"
    }
   ],
   "source": [
    "df.corr()[\"is_duplicate\"]"
   ]
  },
  {
   "cell_type": "code",
   "execution_count": 26,
   "metadata": {},
   "outputs": [
    {
     "data": {
      "text/plain": [
       "id              False\n",
       "qid1            False\n",
       "qid2            False\n",
       "is_duplicate     True\n",
       "freq_qid1       False\n",
       "freq_qid2       False\n",
       "q1len           False\n",
       "q2len           False\n",
       "q1_n_words      False\n",
       "q2_n_words      False\n",
       "word_Common      True\n",
       "word_Total      False\n",
       "word_share       True\n",
       "freq_q1+q2      False\n",
       "freq_q1-q2      False\n",
       "Name: is_duplicate, dtype: bool"
      ]
     },
     "execution_count": 26,
     "metadata": {},
     "output_type": "execute_result"
    }
   ],
   "source": [
    "df.corr()[\"is_duplicate\"].abs() > .2"
   ]
  },
  {
   "cell_type": "code",
   "execution_count": 27,
   "metadata": {},
   "outputs": [
    {
     "data": {
      "text/plain": [
       "Index(['question1', 'question2', 'word_Common', 'word_share'], dtype='object')"
      ]
     },
     "execution_count": 27,
     "metadata": {},
     "output_type": "execute_result"
    }
   ],
   "source": [
    "#columns with high predictive power\n",
    "cols = list(df.corr()[\"is_duplicate\"].abs() > .2)\n",
    "cols[3:3] = [True, True] #insert question1, question2 excluded by corr function\n",
    "highly_correlated_features = df.columns[cols]\n",
    "highly_correlated_features = highly_correlated_features.drop('is_duplicate')\n",
    "highly_correlated_features"
   ]
  },
  {
   "cell_type": "code",
   "execution_count": 28,
   "metadata": {},
   "outputs": [
    {
     "data": {
      "text/plain": [
       "<matplotlib.axes._subplots.AxesSubplot at 0x1be07eb7630>"
      ]
     },
     "execution_count": 28,
     "metadata": {},
     "output_type": "execute_result"
    },
    {
     "data": {
      "image/png": "[encoded data removed]",
      "text/plain": [
       "<Figure size 432x288 with 1 Axes>"
      ]
     },
     "metadata": {},
     "output_type": "display_data"
    }
   ],
   "source": [
    "df.boxplot(column=\"word_share\", by = \"is_duplicate\")"
   ]
  },
  {
   "cell_type": "code",
   "execution_count": 29,
   "metadata": {},
   "outputs": [],
   "source": [
    "#approx. 28% words shared between duplicate questions"
   ]
  },
  {
   "cell_type": "code",
   "execution_count": 30,
   "metadata": {},
   "outputs": [
    {
     "data": {
      "text/plain": [
       "'\\nTodo:\\nrun logistic regression on both min feature and full featured dataset and benchmark result \\n**after tfidf transformation\\n'"
      ]
     },
     "execution_count": 30,
     "metadata": {},
     "output_type": "execute_result"
    }
   ],
   "source": [
    "'''\n",
    "Todo:\n",
    "run logistic regression on both min feature and full featured dataset and benchmark result \n",
    "**after tfidf transformation\n",
    "'''\n"
   ]
  },
  {
   "cell_type": "code",
   "execution_count": 31,
   "metadata": {},
   "outputs": [],
   "source": [
    "#More feature extraction"
   ]
  },
  {
   "cell_type": "code",
   "execution_count": 32,
   "metadata": {},
   "outputs": [],
   "source": [
    "import re\n",
    "from nltk.stem import PorterStemmer\n",
    "from nltk.corpus import stopwords\n",
    "from bs4 import BeautifulSoup\n",
    "from fuzzywuzzy import fuzz\n",
    "import distance\n",
    "from sklearn.feature_extraction.text import TfidfVectorizer"
   ]
  },
  {
   "cell_type": "code",
   "execution_count": 33,
   "metadata": {},
   "outputs": [],
   "source": [
    "def preprocess_text(x):\n",
    "    x = str(x).lower()\n",
    "    x = x.replace(\",000,000\", \"m\").replace(\",000\", \"k\").replace(\"′\", \"'\").replace(\"’\", \"'\")\\\n",
    "                           .replace(\"won't\", \"will not\").replace(\"cannot\", \"can not\").replace(\"can't\", \"can not\")\\\n",
    "                           .replace(\"n't\", \" not\").replace(\"what's\", \"what is\").replace(\"it's\", \"it is\")\\\n",
    "                           .replace(\"'ve\", \" have\").replace(\"i'm\", \"i am\").replace(\"'re\", \" are\")\\\n",
    "                           .replace(\"he's\", \"he is\").replace(\"she's\", \"she is\").replace(\"'s\", \" own\")\\\n",
    "                           .replace(\"%\", \" percent \").replace(\"₹\", \" rupee \").replace(\"$\", \" dollar \")\\\n",
    "                           .replace(\"€\", \" euro \").replace(\"'ll\", \" will\")\n",
    "    x = re.sub(r\"([0-9]+)000000\", r\"\\1m\", x)\n",
    "    x = re.sub(r\"([0-9]+)000\", r\"\\1k\", x)\n",
    "    \n",
    "    porter = PorterStemmer()\n",
    "    pattern = re.compile('\\W')\n",
    "    \n",
    "    if type(x) == type(''):\n",
    "        x = re.sub(pattern, ' ', x)\n",
    "    \n",
    "    \n",
    "    if type(x) == type(''):\n",
    "        x = porter.stem(x)\n",
    "        example1 = BeautifulSoup(x)\n",
    "        x = example1.get_text()\n",
    "               \n",
    "    return x.strip()"
   ]
  },
  {
   "cell_type": "code",
   "execution_count": 34,
   "metadata": {},
   "outputs": [],
   "source": [
    "#text preprocessing\n",
    "# df.question1 = df.question1.apply(preprocess_text)\n",
    "# df.question2 = df.question2.apply(preprocess_text)"
   ]
  },
  {
   "cell_type": "code",
   "execution_count": 35,
   "metadata": {},
   "outputs": [],
   "source": [
    "SAFE_DIV = 0.0001 \n",
    "STOP_WORDS = stopwords.words(\"english\")\n",
    "\n",
    "def get_token_features(q1, q2):\n",
    "    token_features = [0.0]*10\n",
    "    \n",
    "    # Converting the Sentence into Tokens: \n",
    "    q1_tokens = q1.split()\n",
    "    q2_tokens = q2.split()\n",
    "\n",
    "    if len(q1_tokens) == 0 or len(q2_tokens) == 0:\n",
    "        return token_features\n",
    "    # Get the non-stopwords in Questions\n",
    "    q1_words = set([word for word in q1_tokens if word not in STOP_WORDS])\n",
    "    q2_words = set([word for word in q2_tokens if word not in STOP_WORDS])\n",
    "    \n",
    "    #Get the stopwords in Questions\n",
    "    q1_stops = set([word for word in q1_tokens if word in STOP_WORDS])\n",
    "    q2_stops = set([word for word in q2_tokens if word in STOP_WORDS])\n",
    "    \n",
    "    # Get the common non-stopwords from Question pair\n",
    "    common_word_count = len(q1_words.intersection(q2_words))\n",
    "    \n",
    "    # Get the common stopwords from Question pair\n",
    "    common_stop_count = len(q1_stops.intersection(q2_stops))\n",
    "    \n",
    "    # Get the common Tokens from Question pair\n",
    "    common_token_count = len(set(q1_tokens).intersection(set(q2_tokens)))\n",
    "    \n",
    "    \n",
    "    token_features[0] = common_word_count / (min(len(q1_words), len(q2_words)) + SAFE_DIV)\n",
    "    token_features[1] = common_word_count / (max(len(q1_words), len(q2_words)) + SAFE_DIV)\n",
    "    token_features[2] = common_stop_count / (min(len(q1_stops), len(q2_stops)) + SAFE_DIV)\n",
    "    token_features[3] = common_stop_count / (max(len(q1_stops), len(q2_stops)) + SAFE_DIV)\n",
    "    token_features[4] = common_token_count / (min(len(q1_tokens), len(q2_tokens)) + SAFE_DIV)\n",
    "    token_features[5] = common_token_count / (max(len(q1_tokens), len(q2_tokens)) + SAFE_DIV)\n",
    "    \n",
    "    # Last word of both question is same or not\n",
    "    token_features[6] = int(q1_tokens[-1] == q2_tokens[-1])\n",
    "    \n",
    "    # First word of both question is same or not\n",
    "    token_features[7] = int(q1_tokens[0] == q2_tokens[0])\n",
    "    \n",
    "    token_features[8] = abs(len(q1_tokens) - len(q2_tokens))\n",
    "    \n",
    "    #Average Token Length of both Questions\n",
    "    token_features[9] = (len(q1_tokens) + len(q2_tokens))/2\n",
    "    return token_features\n",
    "\n",
    "# get the Longest Common sub string\n",
    "\n",
    "def get_longest_substr_ratio(a, b):\n",
    "    strs = list(distance.lcsubstrings(a, b))\n",
    "    if len(strs) == 0:\n",
    "        return 0\n",
    "    else:\n",
    "        return len(strs[0]) / (min(len(a), len(b)) + 1)\n",
    "\n",
    "def extract_features(df):\n",
    "    # preprocessing each question\n",
    "    df[\"question1\"] = df[\"question1\"].apply(preprocess_text)\n",
    "    df[\"question2\"] = df[\"question2\"].apply(preprocess_text)\n",
    "\n",
    "    print(\"token features...\")\n",
    "    \n",
    "    # Merging Features with dataset\n",
    "    \n",
    "    token_features = df.apply(lambda x: get_token_features(x[\"question1\"], x[\"question2\"]), axis=1)\n",
    "    \n",
    "    df[\"cwc_min\"]       = list(map(lambda x: x[0], token_features))\n",
    "    df[\"cwc_max\"]       = list(map(lambda x: x[1], token_features))\n",
    "    df[\"csc_min\"]       = list(map(lambda x: x[2], token_features))\n",
    "    df[\"csc_max\"]       = list(map(lambda x: x[3], token_features))\n",
    "    df[\"ctc_min\"]       = list(map(lambda x: x[4], token_features))\n",
    "    df[\"ctc_max\"]       = list(map(lambda x: x[5], token_features))\n",
    "    df[\"last_word_eq\"]  = list(map(lambda x: x[6], token_features))\n",
    "    df[\"first_word_eq\"] = list(map(lambda x: x[7], token_features))\n",
    "    df[\"abs_len_diff\"]  = list(map(lambda x: x[8], token_features))\n",
    "    df[\"mean_len\"]      = list(map(lambda x: x[9], token_features))\n",
    "   \n",
    "    #Computing Fuzzy Features and Merging with Dataset\n",
    "    \n",
    "    # do read this blog: http://chairnerd.seatgeek.com/fuzzywuzzy-fuzzy-string-matching-in-python/\n",
    "    # https://stackoverflow.com/questions/31806695/when-to-use-which-fuzz-function-to-compare-2-strings\n",
    "    # https://github.com/seatgeek/fuzzywuzzy\n",
    "    print(\"fuzzy features..\")\n",
    "\n",
    "    df[\"token_set_ratio\"]       = df.apply(lambda x: fuzz.token_set_ratio(x[\"question1\"], x[\"question2\"]), axis=1)\n",
    "    # The token sort approach involves tokenizing the string in question, sorting the tokens alphabetically, and \n",
    "    # then joining them back into a string We then compare the transformed strings with a simple ratio().\n",
    "    df[\"token_sort_ratio\"]      = df.apply(lambda x: fuzz.token_sort_ratio(x[\"question1\"], x[\"question2\"]), axis=1)\n",
    "    df[\"fuzz_ratio\"]            = df.apply(lambda x: fuzz.QRatio(x[\"question1\"], x[\"question2\"]), axis=1)\n",
    "    df[\"fuzz_partial_ratio\"]    = df.apply(lambda x: fuzz.partial_ratio(x[\"question1\"], x[\"question2\"]), axis=1)\n",
    "    df[\"longest_substr_ratio\"]  = df.apply(lambda x: get_longest_substr_ratio(x[\"question1\"], x[\"question2\"]), axis=1)\n",
    "    return df"
   ]
  },
  {
   "cell_type": "code",
   "execution_count": 36,
   "metadata": {},
   "outputs": [
    {
     "name": "stdout",
     "output_type": "stream",
     "text": [
      "token features...\n",
      "fuzzy features..\n",
      "Wall time: 5.54 s\n"
     ]
    }
   ],
   "source": [
    "%%time\n",
    "df = extract_features(df)"
   ]
  },
  {
   "cell_type": "code",
   "execution_count": 37,
   "metadata": {},
   "outputs": [
    {
     "data": {
      "text/html": [
       "<div>\n",
       "<style scoped>\n",
       "    .dataframe tbody tr th:only-of-type {\n",
       "        vertical-align: middle;\n",
       "    }\n",
       "\n",
       "    .dataframe tbody tr th {\n",
       "        vertical-align: top;\n",
       "    }\n",
       "\n",
       "    .dataframe thead th {\n",
       "        text-align: right;\n",
       "    }\n",
       "</style>\n",
       "<table border=\"1\" class=\"dataframe\">\n",
       "  <thead>\n",
       "    <tr style=\"text-align: right;\">\n",
       "      <th></th>\n",
       "      <th>id</th>\n",
       "      <th>qid1</th>\n",
       "      <th>qid2</th>\n",
       "      <th>question1</th>\n",
       "      <th>question2</th>\n",
       "      <th>is_duplicate</th>\n",
       "      <th>freq_qid1</th>\n",
       "      <th>freq_qid2</th>\n",
       "      <th>q1len</th>\n",
       "      <th>q2len</th>\n",
       "      <th>...</th>\n",
       "      <th>ctc_max</th>\n",
       "      <th>last_word_eq</th>\n",
       "      <th>first_word_eq</th>\n",
       "      <th>abs_len_diff</th>\n",
       "      <th>mean_len</th>\n",
       "      <th>token_set_ratio</th>\n",
       "      <th>token_sort_ratio</th>\n",
       "      <th>fuzz_ratio</th>\n",
       "      <th>fuzz_partial_ratio</th>\n",
       "      <th>longest_substr_ratio</th>\n",
       "    </tr>\n",
       "  </thead>\n",
       "  <tbody>\n",
       "    <tr>\n",
       "      <th>0</th>\n",
       "      <td>0</td>\n",
       "      <td>1</td>\n",
       "      <td>2</td>\n",
       "      <td>what is the step by step guide to invest in sh...</td>\n",
       "      <td>what is the step by step guide to invest in sh...</td>\n",
       "      <td>0</td>\n",
       "      <td>1</td>\n",
       "      <td>1</td>\n",
       "      <td>66</td>\n",
       "      <td>57</td>\n",
       "      <td>...</td>\n",
       "      <td>0.785709</td>\n",
       "      <td>0</td>\n",
       "      <td>1</td>\n",
       "      <td>2</td>\n",
       "      <td>13.0</td>\n",
       "      <td>100</td>\n",
       "      <td>93</td>\n",
       "      <td>93</td>\n",
       "      <td>100</td>\n",
       "      <td>0.982456</td>\n",
       "    </tr>\n",
       "    <tr>\n",
       "      <th>1</th>\n",
       "      <td>1</td>\n",
       "      <td>3</td>\n",
       "      <td>4</td>\n",
       "      <td>what is the story of kohinoor  koh i noor  dia...</td>\n",
       "      <td>what would happen if the indian government sto...</td>\n",
       "      <td>0</td>\n",
       "      <td>1</td>\n",
       "      <td>1</td>\n",
       "      <td>51</td>\n",
       "      <td>88</td>\n",
       "      <td>...</td>\n",
       "      <td>0.466664</td>\n",
       "      <td>0</td>\n",
       "      <td>1</td>\n",
       "      <td>5</td>\n",
       "      <td>12.5</td>\n",
       "      <td>86</td>\n",
       "      <td>63</td>\n",
       "      <td>66</td>\n",
       "      <td>74</td>\n",
       "      <td>0.588235</td>\n",
       "    </tr>\n",
       "    <tr>\n",
       "      <th>2</th>\n",
       "      <td>2</td>\n",
       "      <td>5</td>\n",
       "      <td>6</td>\n",
       "      <td>how can i increase the speed of my internet co...</td>\n",
       "      <td>how can internet speed be increased by hacking...</td>\n",
       "      <td>0</td>\n",
       "      <td>1</td>\n",
       "      <td>1</td>\n",
       "      <td>73</td>\n",
       "      <td>59</td>\n",
       "      <td>...</td>\n",
       "      <td>0.285712</td>\n",
       "      <td>0</td>\n",
       "      <td>1</td>\n",
       "      <td>4</td>\n",
       "      <td>12.0</td>\n",
       "      <td>63</td>\n",
       "      <td>63</td>\n",
       "      <td>43</td>\n",
       "      <td>46</td>\n",
       "      <td>0.169492</td>\n",
       "    </tr>\n",
       "    <tr>\n",
       "      <th>3</th>\n",
       "      <td>3</td>\n",
       "      <td>7</td>\n",
       "      <td>8</td>\n",
       "      <td>why am i mentally very lonely  how can i solve it</td>\n",
       "      <td>find the remainder when  math 23  24   math  i...</td>\n",
       "      <td>0</td>\n",
       "      <td>1</td>\n",
       "      <td>1</td>\n",
       "      <td>50</td>\n",
       "      <td>65</td>\n",
       "      <td>...</td>\n",
       "      <td>0.000000</td>\n",
       "      <td>0</td>\n",
       "      <td>0</td>\n",
       "      <td>2</td>\n",
       "      <td>12.0</td>\n",
       "      <td>28</td>\n",
       "      <td>24</td>\n",
       "      <td>9</td>\n",
       "      <td>11</td>\n",
       "      <td>0.040000</td>\n",
       "    </tr>\n",
       "    <tr>\n",
       "      <th>4</th>\n",
       "      <td>4</td>\n",
       "      <td>9</td>\n",
       "      <td>10</td>\n",
       "      <td>which one dissolve in water quikly sugar  salt...</td>\n",
       "      <td>which fish would survive in salt water</td>\n",
       "      <td>0</td>\n",
       "      <td>1</td>\n",
       "      <td>1</td>\n",
       "      <td>76</td>\n",
       "      <td>39</td>\n",
       "      <td>...</td>\n",
       "      <td>0.307690</td>\n",
       "      <td>0</td>\n",
       "      <td>1</td>\n",
       "      <td>6</td>\n",
       "      <td>10.0</td>\n",
       "      <td>67</td>\n",
       "      <td>47</td>\n",
       "      <td>35</td>\n",
       "      <td>55</td>\n",
       "      <td>0.153846</td>\n",
       "    </tr>\n",
       "  </tbody>\n",
       "</table>\n",
       "<p>5 rows × 32 columns</p>\n",
       "</div>"
      ],
      "text/plain": [
       "   id  qid1  qid2                                          question1  \\\n",
       "0   0     1     2  what is the step by step guide to invest in sh...   \n",
       "1   1     3     4  what is the story of kohinoor  koh i noor  dia...   \n",
       "2   2     5     6  how can i increase the speed of my internet co...   \n",
       "3   3     7     8  why am i mentally very lonely  how can i solve it   \n",
       "4   4     9    10  which one dissolve in water quikly sugar  salt...   \n",
       "\n",
       "                                           question2  is_duplicate  freq_qid1  \\\n",
       "0  what is the step by step guide to invest in sh...             0          1   \n",
       "1  what would happen if the indian government sto...             0          1   \n",
       "2  how can internet speed be increased by hacking...             0          1   \n",
       "3  find the remainder when  math 23  24   math  i...             0          1   \n",
       "4             which fish would survive in salt water             0          1   \n",
       "\n",
       "   freq_qid2  q1len  q2len          ...            ctc_max  last_word_eq  \\\n",
       "0          1     66     57          ...           0.785709             0   \n",
       "1          1     51     88          ...           0.466664             0   \n",
       "2          1     73     59          ...           0.285712             0   \n",
       "3          1     50     65          ...           0.000000             0   \n",
       "4          1     76     39          ...           0.307690             0   \n",
       "\n",
       "   first_word_eq  abs_len_diff  mean_len  token_set_ratio  token_sort_ratio  \\\n",
       "0              1             2      13.0              100                93   \n",
       "1              1             5      12.5               86                63   \n",
       "2              1             4      12.0               63                63   \n",
       "3              0             2      12.0               28                24   \n",
       "4              1             6      10.0               67                47   \n",
       "\n",
       "   fuzz_ratio  fuzz_partial_ratio  longest_substr_ratio  \n",
       "0          93                 100              0.982456  \n",
       "1          66                  74              0.588235  \n",
       "2          43                  46              0.169492  \n",
       "3           9                  11              0.040000  \n",
       "4          35                  55              0.153846  \n",
       "\n",
       "[5 rows x 32 columns]"
      ]
     },
     "execution_count": 37,
     "metadata": {},
     "output_type": "execute_result"
    }
   ],
   "source": [
    "\n",
    "df.head()\n",
    "# Todo: concat old and new features"
   ]
  },
  {
   "cell_type": "code",
   "execution_count": 38,
   "metadata": {},
   "outputs": [
    {
     "data": {
      "text/plain": [
       "<matplotlib.axes._subplots.AxesSubplot at 0x1be09ceeb38>"
      ]
     },
     "execution_count": 38,
     "metadata": {},
     "output_type": "execute_result"
    },
    {
     "data": {
      "image/png": "[encoded data removed]",
      "text/plain": [
       "<Figure size 432x288 with 2 Axes>"
      ]
     },
     "metadata": {},
     "output_type": "display_data"
    }
   ],
   "source": [
    "sns.heatmap(df.corr())"
   ]
  },
  {
   "cell_type": "code",
   "execution_count": 39,
   "metadata": {},
   "outputs": [
    {
     "data": {
      "text/plain": [
       "Index(['word_Common', 'word_share', 'cwc_min', 'cwc_max', 'csc_max', 'ctc_min',\n",
       "       'ctc_max', 'last_word_eq', 'abs_len_diff', 'mean_len',\n",
       "       'token_set_ratio', 'token_sort_ratio', 'fuzz_ratio',\n",
       "       'fuzz_partial_ratio', 'longest_substr_ratio'],\n",
       "      dtype='object')"
      ]
     },
     "execution_count": 39,
     "metadata": {},
     "output_type": "execute_result"
    }
   ],
   "source": [
    "cols = list(df.corr()[\"is_duplicate\"].abs() > .2)\n",
    "highly_correlated_features = df.drop(['question1', 'question2'], axis=1).columns[cols]\n",
    "highly_correlated_features = highly_correlated_features.drop('is_duplicate')\n",
    "highly_correlated_features"
   ]
  },
  {
   "cell_type": "code",
   "execution_count": 40,
   "metadata": {},
   "outputs": [
    {
     "name": "stdout",
     "output_type": "stream",
     "text": [
      "Wall time: 197 ms\n"
     ]
    }
   ],
   "source": [
    "%%time\n",
    "#vectorize question text\n",
    "questions = list(df['question1']) + list(df['question2'])\n",
    "\n",
    "tfidf = TfidfVectorizer(lowercase=False, analyzer='word', stop_words='english', max_features=2000)\n",
    "tfidf.fit(questions)\n"
   ]
  },
  {
   "cell_type": "code",
   "execution_count": 41,
   "metadata": {},
   "outputs": [
    {
     "data": {
      "text/plain": [
       "2000"
      ]
     },
     "execution_count": 41,
     "metadata": {},
     "output_type": "execute_result"
    }
   ],
   "source": [
    "len(tfidf.get_feature_names())"
   ]
  },
  {
   "cell_type": "code",
   "execution_count": null,
   "metadata": {},
   "outputs": [],
   "source": []
  },
  {
   "cell_type": "code",
   "execution_count": 42,
   "metadata": {},
   "outputs": [],
   "source": [
    "q1_tfidf = tfidf.transform(df['question1'])\n",
    "q2_tfidf = tfidf.transform(df['question2'])"
   ]
  },
  {
   "cell_type": "code",
   "execution_count": 43,
   "metadata": {},
   "outputs": [],
   "source": [
    "q1_df = pd.DataFrame(list(q1_tfidf.toarray()))\n",
    "q2_df = pd.DataFrame(list(q2_tfidf.toarray()))\n",
    "q1_df.columns = [name + \"_x\" for name in tfidf.get_feature_names()]\n",
    "q2_df.columns = [name + \"_y\" for name in tfidf.get_feature_names()]"
   ]
  },
  {
   "cell_type": "code",
   "execution_count": 44,
   "metadata": {},
   "outputs": [],
   "source": [
    "df_ques = pd.concat([q1_df, q2_df], axis=1)"
   ]
  },
  {
   "cell_type": "code",
   "execution_count": 45,
   "metadata": {},
   "outputs": [],
   "source": [
    "df_final = pd.concat([df[highly_correlated_features], df_ques], axis=1)"
   ]
  },
  {
   "cell_type": "code",
   "execution_count": 46,
   "metadata": {},
   "outputs": [
    {
     "data": {
      "text/plain": [
       "(1000, 4015)"
      ]
     },
     "execution_count": 46,
     "metadata": {},
     "output_type": "execute_result"
    }
   ],
   "source": [
    "df_final.shape"
   ]
  },
  {
   "cell_type": "code",
   "execution_count": 47,
   "metadata": {},
   "outputs": [
    {
     "data": {
      "text/html": [
       "<div>\n",
       "<style scoped>\n",
       "    .dataframe tbody tr th:only-of-type {\n",
       "        vertical-align: middle;\n",
       "    }\n",
       "\n",
       "    .dataframe tbody tr th {\n",
       "        vertical-align: top;\n",
       "    }\n",
       "\n",
       "    .dataframe thead th {\n",
       "        text-align: right;\n",
       "    }\n",
       "</style>\n",
       "<table border=\"1\" class=\"dataframe\">\n",
       "  <thead>\n",
       "    <tr style=\"text-align: right;\">\n",
       "      <th></th>\n",
       "      <th>word_Common</th>\n",
       "      <th>word_share</th>\n",
       "      <th>cwc_min</th>\n",
       "      <th>cwc_max</th>\n",
       "      <th>csc_max</th>\n",
       "      <th>ctc_min</th>\n",
       "      <th>ctc_max</th>\n",
       "      <th>last_word_eq</th>\n",
       "      <th>abs_len_diff</th>\n",
       "      <th>mean_len</th>\n",
       "      <th>...</th>\n",
       "      <th>written_y</th>\n",
       "      <th>wrong_y</th>\n",
       "      <th>year_y</th>\n",
       "      <th>years_y</th>\n",
       "      <th>yes_y</th>\n",
       "      <th>younger_y</th>\n",
       "      <th>youtube_y</th>\n",
       "      <th>zealand_y</th>\n",
       "      <th>zero_y</th>\n",
       "      <th>zika_y</th>\n",
       "    </tr>\n",
       "  </thead>\n",
       "  <tbody>\n",
       "    <tr>\n",
       "      <th>0</th>\n",
       "      <td>10</td>\n",
       "      <td>0.434783</td>\n",
       "      <td>0.999980</td>\n",
       "      <td>0.833319</td>\n",
       "      <td>0.999983</td>\n",
       "      <td>0.916659</td>\n",
       "      <td>0.785709</td>\n",
       "      <td>0</td>\n",
       "      <td>2</td>\n",
       "      <td>13.0</td>\n",
       "      <td>...</td>\n",
       "      <td>0.0</td>\n",
       "      <td>0.0</td>\n",
       "      <td>0.0</td>\n",
       "      <td>0.0</td>\n",
       "      <td>0.0</td>\n",
       "      <td>0.0</td>\n",
       "      <td>0.0</td>\n",
       "      <td>0.0</td>\n",
       "      <td>0.0</td>\n",
       "      <td>0.0</td>\n",
       "    </tr>\n",
       "    <tr>\n",
       "      <th>1</th>\n",
       "      <td>4</td>\n",
       "      <td>0.200000</td>\n",
       "      <td>0.799984</td>\n",
       "      <td>0.399996</td>\n",
       "      <td>0.599988</td>\n",
       "      <td>0.699993</td>\n",
       "      <td>0.466664</td>\n",
       "      <td>0</td>\n",
       "      <td>5</td>\n",
       "      <td>12.5</td>\n",
       "      <td>...</td>\n",
       "      <td>0.0</td>\n",
       "      <td>0.0</td>\n",
       "      <td>0.0</td>\n",
       "      <td>0.0</td>\n",
       "      <td>0.0</td>\n",
       "      <td>0.0</td>\n",
       "      <td>0.0</td>\n",
       "      <td>0.0</td>\n",
       "      <td>0.0</td>\n",
       "      <td>0.0</td>\n",
       "    </tr>\n",
       "    <tr>\n",
       "      <th>2</th>\n",
       "      <td>3</td>\n",
       "      <td>0.125000</td>\n",
       "      <td>0.399992</td>\n",
       "      <td>0.333328</td>\n",
       "      <td>0.249997</td>\n",
       "      <td>0.399996</td>\n",
       "      <td>0.285712</td>\n",
       "      <td>0</td>\n",
       "      <td>4</td>\n",
       "      <td>12.0</td>\n",
       "      <td>...</td>\n",
       "      <td>0.0</td>\n",
       "      <td>0.0</td>\n",
       "      <td>0.0</td>\n",
       "      <td>0.0</td>\n",
       "      <td>0.0</td>\n",
       "      <td>0.0</td>\n",
       "      <td>0.0</td>\n",
       "      <td>0.0</td>\n",
       "      <td>0.0</td>\n",
       "      <td>0.0</td>\n",
       "    </tr>\n",
       "    <tr>\n",
       "      <th>3</th>\n",
       "      <td>0</td>\n",
       "      <td>0.000000</td>\n",
       "      <td>0.000000</td>\n",
       "      <td>0.000000</td>\n",
       "      <td>0.000000</td>\n",
       "      <td>0.000000</td>\n",
       "      <td>0.000000</td>\n",
       "      <td>0</td>\n",
       "      <td>2</td>\n",
       "      <td>12.0</td>\n",
       "      <td>...</td>\n",
       "      <td>0.0</td>\n",
       "      <td>0.0</td>\n",
       "      <td>0.0</td>\n",
       "      <td>0.0</td>\n",
       "      <td>0.0</td>\n",
       "      <td>0.0</td>\n",
       "      <td>0.0</td>\n",
       "      <td>0.0</td>\n",
       "      <td>0.0</td>\n",
       "      <td>0.0</td>\n",
       "    </tr>\n",
       "    <tr>\n",
       "      <th>4</th>\n",
       "      <td>2</td>\n",
       "      <td>0.100000</td>\n",
       "      <td>0.399992</td>\n",
       "      <td>0.199998</td>\n",
       "      <td>0.666644</td>\n",
       "      <td>0.571420</td>\n",
       "      <td>0.307690</td>\n",
       "      <td>0</td>\n",
       "      <td>6</td>\n",
       "      <td>10.0</td>\n",
       "      <td>...</td>\n",
       "      <td>0.0</td>\n",
       "      <td>0.0</td>\n",
       "      <td>0.0</td>\n",
       "      <td>0.0</td>\n",
       "      <td>0.0</td>\n",
       "      <td>0.0</td>\n",
       "      <td>0.0</td>\n",
       "      <td>0.0</td>\n",
       "      <td>0.0</td>\n",
       "      <td>0.0</td>\n",
       "    </tr>\n",
       "  </tbody>\n",
       "</table>\n",
       "<p>5 rows × 4015 columns</p>\n",
       "</div>"
      ],
      "text/plain": [
       "   word_Common  word_share   cwc_min   cwc_max   csc_max   ctc_min   ctc_max  \\\n",
       "0           10    0.434783  0.999980  0.833319  0.999983  0.916659  0.785709   \n",
       "1            4    0.200000  0.799984  0.399996  0.599988  0.699993  0.466664   \n",
       "2            3    0.125000  0.399992  0.333328  0.249997  0.399996  0.285712   \n",
       "3            0    0.000000  0.000000  0.000000  0.000000  0.000000  0.000000   \n",
       "4            2    0.100000  0.399992  0.199998  0.666644  0.571420  0.307690   \n",
       "\n",
       "   last_word_eq  abs_len_diff  mean_len   ...    written_y  wrong_y  year_y  \\\n",
       "0             0             2      13.0   ...          0.0      0.0     0.0   \n",
       "1             0             5      12.5   ...          0.0      0.0     0.0   \n",
       "2             0             4      12.0   ...          0.0      0.0     0.0   \n",
       "3             0             2      12.0   ...          0.0      0.0     0.0   \n",
       "4             0             6      10.0   ...          0.0      0.0     0.0   \n",
       "\n",
       "   years_y  yes_y  younger_y  youtube_y  zealand_y  zero_y  zika_y  \n",
       "0      0.0    0.0        0.0        0.0        0.0     0.0     0.0  \n",
       "1      0.0    0.0        0.0        0.0        0.0     0.0     0.0  \n",
       "2      0.0    0.0        0.0        0.0        0.0     0.0     0.0  \n",
       "3      0.0    0.0        0.0        0.0        0.0     0.0     0.0  \n",
       "4      0.0    0.0        0.0        0.0        0.0     0.0     0.0  \n",
       "\n",
       "[5 rows x 4015 columns]"
      ]
     },
     "execution_count": 47,
     "metadata": {},
     "output_type": "execute_result"
    }
   ],
   "source": [
    "df_final.head()"
   ]
  },
  {
   "cell_type": "code",
   "execution_count": 48,
   "metadata": {},
   "outputs": [],
   "source": [
    "#model building"
   ]
  },
  {
   "cell_type": "code",
   "execution_count": 50,
   "metadata": {},
   "outputs": [],
   "source": [
    "from sklearn.model_selection import train_test_split\n",
    "import xgboost as xgb\n",
    "from sklearn.metrics import confusion_matrix\n",
    "from sklearn.grid_search import RandomizedSearchCV"
   ]
  },
  {
   "cell_type": "code",
   "execution_count": 60,
   "metadata": {},
   "outputs": [],
   "source": [
    "# This function plots the confusion matrices given y_i, y_i_hat.\n",
    "def plot_confusion_matrix(test_y, predict_y):\n",
    "    C = confusion_matrix(test_y, predict_y)\n",
    "    # C = 9,9 matrix, each cell (i,j) represents number of points of class i are predicted class j\n",
    "    \n",
    "    A =(((C.T)/(C.sum(axis=1))).T)\n",
    "    #divid each element of the confusion matrix with the sum of elements in that column\n",
    "    \n",
    "    # C = [[1, 2],\n",
    "    #     [3, 4]]\n",
    "    # C.T = [[1, 3],\n",
    "    #        [2, 4]]\n",
    "    # C.sum(axis = 1)  axis=0 corresonds to columns and axis=1 corresponds to rows in two diamensional array\n",
    "    # C.sum(axix =1) = [[3, 7]]\n",
    "    # ((C.T)/(C.sum(axis=1))) = [[1/3, 3/7]\n",
    "    #                           [2/3, 4/7]]\n",
    "\n",
    "    # ((C.T)/(C.sum(axis=1))).T = [[1/3, 2/3]\n",
    "    #                           [3/7, 4/7]]\n",
    "    # sum of row elements = 1\n",
    "    \n",
    "    B =(C/C.sum(axis=0))\n",
    "    #divid each element of the confusion matrix with the sum of elements in that row\n",
    "    # C = [[1, 2],\n",
    "    #     [3, 4]]\n",
    "    # C.sum(axis = 0)  axis=0 corresonds to columns and axis=1 corresponds to rows in two diamensional array\n",
    "    # C.sum(axix =0) = [[4, 6]]\n",
    "    # (C/C.sum(axis=0)) = [[1/4, 2/6],\n",
    "    #                      [3/4, 4/6]] \n",
    "    plt.figure(figsize=(20,4))\n",
    "    \n",
    "    labels = [1,2]\n",
    "    # representing A in heatmap format\n",
    "    cmap=sns.light_palette(\"blue\")\n",
    "    plt.subplot(1, 3, 1)\n",
    "    sns.heatmap(C, annot=True, cmap=cmap, fmt=\".3f\", xticklabels=labels, yticklabels=labels)\n",
    "    plt.xlabel('Predicted Class')\n",
    "    plt.ylabel('Original Class')\n",
    "    plt.title(\"Confusion matrix\")\n",
    "    \n",
    "    plt.subplot(1, 3, 2)\n",
    "    sns.heatmap(B, annot=True, cmap=cmap, fmt=\".3f\", xticklabels=labels, yticklabels=labels)\n",
    "    plt.xlabel('Predicted Class')\n",
    "    plt.ylabel('Original Class')\n",
    "    plt.title(\"Precision matrix\")\n",
    "    \n",
    "    plt.subplot(1, 3, 3)\n",
    "    # representing B in heatmap format\n",
    "    sns.heatmap(A, annot=True, cmap=cmap, fmt=\".3f\", xticklabels=labels, yticklabels=labels)\n",
    "    plt.xlabel('Predicted Class')\n",
    "    plt.ylabel('Original Class')\n",
    "    plt.title(\"Recall matrix\")\n",
    "    \n",
    "    plt.show()"
   ]
  },
  {
   "cell_type": "code",
   "execution_count": 57,
   "metadata": {},
   "outputs": [
    {
     "name": "stdout",
     "output_type": "stream",
     "text": [
      "Wall time: 56.5 s\n"
     ]
    }
   ],
   "source": [
    "%%time\n",
    "params = {\n",
    "        'min_child_weight': [1, 5, 10],\n",
    "        'gamma': [0.5, 1, 1.5, 2, 5],\n",
    "        'subsample': [0.6, 0.8, 1.0],\n",
    "        'colsample_bytree': [0.6, 0.8, 1.0],\n",
    "        'max_depth': [3, 4, 5]\n",
    "        }\n",
    "\n",
    "random_search = RandomizedSearchCV(estimator = xgb.XGBClassifier( learning_rate =0.1, n_estimators=140, max_depth=5,\n",
    "                                                             min_child_weight=1, gamma=0, subsample=0.8, colsample_bytree=0.8,\n",
    "                                                             objective= 'binary:logistic', nthread=-1, scale_pos_weight=1, seed=27), \n",
    "                                   param_distributions = params, scoring='roc_auc', iid=False, cv=5, n_iter=3)\n",
    "random_search.fit(df_final, df.is_duplicate)"
   ]
  },
  {
   "cell_type": "code",
   "execution_count": 61,
   "metadata": {},
   "outputs": [
    {
     "data": {
      "image/png": "[encoded data removed]",
      "text/plain": [
       "<Figure size 1440x288 with 6 Axes>"
      ]
     },
     "metadata": {},
     "output_type": "display_data"
    }
   ],
   "source": [
    "predict_y = random_search.best_estimator_.predict(df_final)\n",
    "predict_proba = random_search.best_estimator_.predict_proba(df_final)\n",
    "plot_confusion_matrix(df.is_duplicate, predict_y)"
   ]
  },
  {
   "cell_type": "code",
   "execution_count": null,
   "metadata": {},
   "outputs": [],
   "source": []
  }
 ],
 "metadata": {
  "kernelspec": {
   "display_name": "Python [default]",
   "language": "python",
   "name": "python3"
  },
  "language_info": {
   "codemirror_mode": {
    "name": "ipython",
    "version": 3
   },
   "file_extension": ".py",
   "mimetype": "text/x-python",
   "name": "python",
   "nbconvert_exporter": "python",
   "pygments_lexer": "ipython3",
   "version": "3.5.5"
  }
 },
 "nbformat": 4,
 "nbformat_minor": 2
}
